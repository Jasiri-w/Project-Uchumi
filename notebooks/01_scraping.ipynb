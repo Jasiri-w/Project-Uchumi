{
 "cells": [
  {
   "cell_type": "markdown",
   "metadata": {},
   "source": [
    "# Imports"
   ]
  },
  {
   "cell_type": "code",
   "execution_count": 1,
   "metadata": {},
   "outputs": [],
   "source": [
    "import pandas as pd\n",
    "import numpy as np\n",
    "import csv\n",
    "import time\n",
    "from tqdm import tqdm\n",
    "\n",
    "from trafilatura.sitemaps import sitemap_search\n",
    "from trafilatura import fetch_url, extract, bare_extraction\n",
    "\n",
    "import os"
   ]
  },
  {
   "cell_type": "markdown",
   "metadata": {},
   "source": [
    "# Data Collection"
   ]
  },
  {
   "cell_type": "markdown",
   "metadata": {},
   "source": [
    "## Scraping Functions"
   ]
  },
  {
   "cell_type": "code",
   "execution_count": 2,
   "metadata": {},
   "outputs": [],
   "source": [
    "def get_urls_from_sitemap(resource_url: str) -> list:\n",
    "    \"\"\"\n",
    "    Funzione che crea un DataFrame Pandas di URL e articoli.\n",
    "    Function to create a Pandas DataFrame from the article URL\n",
    "    \"\"\"\n",
    "    urls = sitemap_search(resource_url)\n",
    "    print(f'Urls: {urls}')\n",
    "    return urls\n",
    "\n",
    "\n",
    "def extract_article(url: str) -> dict:\n",
    "    \"\"\"\n",
    "    Estrae un articolo da una URL con Trafilatura\n",
    "    Extract an article from a URL from Trafiltura\n",
    "    \"\"\"\n",
    "    downloaded = fetch_url(url)\n",
    "    article = extract(downloaded, favor_precision=True)\n",
    "\n",
    "    return article\n",
    "\n",
    "def extract_date(url: str) -> dict:\n",
    "\n",
    "    downloaded = fetch_url(url)\n",
    "    date = bare_extraction(downloaded,favor_precision=True)['date']\n",
    "\n",
    "    return date\n",
    "\n",
    "def create_dataset(list_of_websites: list, df_original=None) -> pd.DataFrame:\n",
    "    \"\"\"\n",
    "    Funzione che crea un DataFrame Pandas di URL e articoli.\n",
    "    Function to create a Pandas Dataframe from an article URL\n",
    "    \"\"\"\n",
    "\n",
    "    data = []\n",
    "    for website in tqdm(list_of_websites, desc=\"Websites\"):\n",
    "        urls = get_urls_from_sitemap(website)\n",
    "        for url in tqdm(urls, desc=\"URLs\"):\n",
    "            if df_original is not None and url in df_original['url'].tolist():\n",
    "                continue\n",
    "            d = {\n",
    "                'url': url,\n",
    "                \"article\": extract_article(url),\n",
    "                \"date\": pd.to_datetime(extract_date(url))\n",
    "            }\n",
    "            data.append(d)\n",
    "            time.sleep(0.25)\n",
    "\n",
    "    df = pd.DataFrame(data)\n",
    "    if df_original is not None:\n",
    "        # Append only rows from df that are not in df_original\n",
    "        df_original = pd.concat([df_original, df]).drop_duplicates(subset=['url'], keep='first')\n",
    "        df = df_original\n",
    "\n",
    "    df = df.drop_duplicates()\n",
    "    df = df.dropna(subset=['article'])\n",
    "\n",
    "    return df\n"
   ]
  },
  {
   "cell_type": "markdown",
   "metadata": {},
   "source": [
    "## Dataset 1"
   ]
  },
  {
   "cell_type": "code",
   "execution_count": 3,
   "metadata": {},
   "outputs": [
    {
     "name": "stderr",
     "output_type": "stream",
     "text": [
      "Websites:   0%|          | 0/3 [00:00<?, ?it/s]"
     ]
    },
    {
     "name": "stdout",
     "output_type": "stream",
     "text": [
      "Urls: ['https://nation.africa/kenya/business/airasia-x-unveils-direct-flights-from-nairobi-to-kuala-lumpur-4675966', 'https://nation.africa/kenya/business/m-tiba-md-prickaerts-appointed-ceo-of-carepay-international-4676016', 'https://nation.africa/kenya/counties/kakamega/not-off-the-hook-yet-court-rejects-dpp-s-application-to-drop-charges-against-ayub-savula-wives-in-sh122m-fraud-case-4675578', 'https://nation.africa/kenya/counties/lamu/let-there-be-light-remote-manda-island-set-to-get-electricity-4675262', 'https://nation.africa/kenya/counties/makueni/governor-mutula-kilonzo-withdraws-plan-to-increase-taxes-in-makueni-drops-county-s-finance-bill-2024-4675610', 'https://nation.africa/kenya/counties/nairobi/anti-tax-protester-charged-for-unlawfully-entering-parliament-building-4676086', 'https://nation.africa/kenya/counties/nakuru/police-bullet-kills-the-hope-of-a-nakuru-family-4675502', 'https://nation.africa/kenya/news/-malicious-claims-ig-japhet-koome-says-no-kenyan-police-officer-has-been-killed-in-haiti-4675956', 'https://nation.africa/kenya/news/action-not-dialogue-unions-and-professional-bodies-tell-president-william-ruto-4675824', 'https://nation.africa/kenya/news/civil-servants-to-continue-enjoying-nhif-comprehensive-services-4675496', 'https://nation.africa/kenya/news/education/-students-want-place-on-budget-making-high-table-4675592', 'https://nation.africa/kenya/news/education/campus-revolt-why-we-fought-finance-bill-2024-4675540', 'https://nation.africa/kenya/news/education/patience-mshenga-first-duruma-female-professor-now-nurses-ambition-to-head-university-4675570', 'https://nation.africa/kenya/news/gender/hope-for-african-widows-as-continent-moots-empowerment-fund-4675438', 'https://nation.africa/kenya/news/gender/inua-jamii-4675478', 'https://nation.africa/kenya/news/gender/new-content-item-1--4675480', 'https://nation.africa/kenya/news/politics/gachagua-all-is-not-well-between-me-and-my-boss-william-ruto-4675144', 'https://nation.africa/kenya/news/politics/rigathi-gachagua-my-sons-did-not-back-ruto-state-house-bid-4675548', 'https://nation.africa/kenya/news/senator-okiya-omtatah-sues-national-assembly-over-budget-making-process-4675740', 'https://nation.africa/kenya/news/why-muguka-ban-in-kenya-is-unlikely-to-work--4675386', 'https://nation.africa/kenya/news/world/trump-has-immunity-for-official-not-private-acts-us-supreme-court-rules--4675934', 'https://nation.africa/kenya/sports/athletics/ferdinand-omanyala-eager-to-meet-his-namesake-omanyala-the-horse-4675260', 'https://nation.africa/kenya/sports/athletics/meet-gladys-chepngetich-kenya-s-budding-athletics-star-with-big-dreams-4675258', 'https://nation.africa/kenya/sports/football/gor-mahia-name-brazilian-leonardo-neiva-new-coach-4675876', 'https://nation.africa/kenya/sports/football/kisumu-day-coach-mission-to-rid-school-games-of-cheats-4675374']\n"
     ]
    },
    {
     "name": "stderr",
     "output_type": "stream",
     "text": [
      "\n",
      "URLs:   0%|          | 0/25 [00:00<?, ?it/s]\u001b[A\n",
      "URLs:   4%|▍         | 1/25 [00:00<00:21,  1.11it/s]\u001b[A\n",
      "URLs:   8%|▊         | 2/25 [00:01<00:18,  1.24it/s]\u001b[A\n",
      "URLs:  12%|█▏        | 3/25 [00:02<00:18,  1.17it/s]\u001b[A\n",
      "URLs:  16%|█▌        | 4/25 [00:03<00:17,  1.23it/s]\u001b[A\n",
      "URLs:  20%|██        | 5/25 [00:04<00:16,  1.24it/s]\u001b[A\n",
      "URLs:  24%|██▍       | 6/25 [00:04<00:14,  1.31it/s]\u001b[A\n",
      "URLs:  28%|██▊       | 7/25 [00:05<00:16,  1.12it/s]\u001b[A\n",
      "URLs:  32%|███▏      | 8/25 [00:06<00:14,  1.14it/s]\u001b[A\n",
      "URLs:  36%|███▌      | 9/25 [00:07<00:13,  1.16it/s]\u001b[A\n",
      "URLs:  40%|████      | 10/25 [00:08<00:12,  1.23it/s]\u001b[A\n",
      "URLs:  44%|████▍     | 11/25 [00:09<00:11,  1.24it/s]\u001b[A\n",
      "URLs:  48%|████▊     | 12/25 [00:09<00:10,  1.22it/s]\u001b[A\n",
      "URLs:  52%|█████▏    | 13/25 [00:10<00:10,  1.17it/s]\u001b[A\n",
      "URLs:  56%|█████▌    | 14/25 [00:11<00:08,  1.25it/s]\u001b[A\n",
      "URLs:  60%|██████    | 15/25 [00:13<00:10,  1.08s/it]\u001b[A\n",
      "URLs:  64%|██████▍   | 16/25 [00:14<00:11,  1.25s/it]\u001b[A\n",
      "URLs:  68%|██████▊   | 17/25 [00:15<00:09,  1.16s/it]\u001b[A\n",
      "URLs:  72%|███████▏  | 18/25 [00:16<00:07,  1.05s/it]\u001b[A\n",
      "URLs:  76%|███████▌  | 19/25 [00:17<00:06,  1.01s/it]\u001b[A\n",
      "URLs:  80%|████████  | 20/25 [00:18<00:04,  1.01it/s]\u001b[A\n",
      "URLs:  84%|████████▍ | 21/25 [00:19<00:03,  1.10it/s]\u001b[A\n",
      "URLs:  88%|████████▊ | 22/25 [00:19<00:02,  1.20it/s]\u001b[A\n",
      "URLs:  92%|█████████▏| 23/25 [00:20<00:01,  1.14it/s]\u001b[A\n",
      "URLs:  96%|█████████▌| 24/25 [00:21<00:00,  1.20it/s]\u001b[A\n",
      "URLs: 100%|██████████| 25/25 [00:22<00:00,  1.11it/s]\u001b[A\n",
      "Websites:  33%|███▎      | 1/3 [00:26<00:52, 26.07s/it]"
     ]
    },
    {
     "name": "stdout",
     "output_type": "stream",
     "text": [
      "Urls: []\n"
     ]
    },
    {
     "name": "stderr",
     "output_type": "stream",
     "text": [
      "\n",
      "URLs: 0it [00:00, ?it/s]\u001b[A\n",
      "Websites:  67%|██████▋   | 2/3 [00:26<00:10, 10.85s/it]"
     ]
    },
    {
     "name": "stdout",
     "output_type": "stream",
     "text": [
      "Urls: ['https://www.businessdailyafrica.com/bd/economy/kenya-agoa-exports-dip-42pc-deny-traders-dollar-windfall-4675728', 'https://www.businessdailyafrica.com/bd/economy/kenya-to-open-market-for-duty-free-eu-imports-4675654', 'https://www.businessdailyafrica.com/bd/economy/dar-port-starts-facelift-in-hub-status-fight-against-mombasa--4674792', 'https://www.businessdailyafrica.com/bd/economy/how-kenya-paid-sh197bn-interest-on-debut-eurobond--4675074', 'https://www.businessdailyafrica.com/bd/economy/eyes-on-president-ruto-office-over-sh667m-budget-cut-pledge--4674838', 'https://www.businessdailyafrica.com/bd/opinion-analysis/columnists/leaders-gaslighting-us-to-submission--4674968', 'https://www.businessdailyafrica.com/bd/economy/civil-servants-medical-cover-intact-as-shif-rollout-starts--4675082', 'https://www.businessdailyafrica.com/bd/lifestyle/profiles/mary-wamae-iron-lady-that-has-shaped-equity-group-exits--4675094', 'https://www.businessdailyafrica.com/bd/markets/commodities/why-nse-firms-want-unsold-ktda-tea-destroyed--4674766', 'https://www.businessdailyafrica.com/bd/economy/uganda-s-exports-to-kenya-fall-amid-trade-tiffs--4674860', 'https://www.businessdailyafrica.com/bd/markets/capital-markets/demand-for-t-bills-dries-up-against-higher-interest-rates--4674734', 'https://www.businessdailyafrica.com/bd/corporate/companies/shareholders-okay-kenya-re-sh840-million-dividend-pay--4674960', 'https://www.businessdailyafrica.com/bd/corporate/technology/how-firms-can-ride-on-x-spaces-to-net-masses--4675042', 'https://www.businessdailyafrica.com/bd/corporate/technology/naivety-do-you-have-this-innovators-superpower--4675034', 'https://www.businessdailyafrica.com/bd/lifestyle/health-fitness/why-tall-people-get-backaches--4675050', 'https://www.businessdailyafrica.com/bd/lifestyle/health-fitness/down-syndrome-how-can-i-tell-if-my-child-will-have-it--4675058', 'https://www.businessdailyafrica.com/bd/markets/capital-markets/money-order-use-dips-33-percent-on-customer-shifts--4674742', 'https://www.businessdailyafrica.com/bd/economy/gen-zs-hold-less-than-3pc-of-state-jobs--4674820', 'https://www.businessdailyafrica.com/bd/corporate/companies/nhc-stuck-with-sh1-3bn-unsold-houses--4674950', 'https://www.businessdailyafrica.com/bd/corporate/companies/old-mutual-sells-tanzania-unit-for-sh73-5-million--4674928', 'https://www.businessdailyafrica.com/bd/economy/eac-achieves-100pc-mobile-penetration-beats-africa--4674810', 'https://www.businessdailyafrica.com/bd/economy/safety-fears-on-obsolete-equipment-used-by-ntsa--4674884', 'https://www.businessdailyafrica.com/bd/corporate/companies/absa-relieved-as-court-cuts-sh1-2m-damages--4674908', 'https://www.businessdailyafrica.com/bd/opinion-analysis/columnists/historic-gen-z-protests-ushering-new-era-of-activism-in-kenya--4674988', 'https://www.businessdailyafrica.com/bd/opinion-analysis/columnists/leverage-data-scenario-planning-when-setting-sustainability--4675022']\n"
     ]
    },
    {
     "name": "stderr",
     "output_type": "stream",
     "text": [
      "\n",
      "URLs:   0%|          | 0/25 [00:00<?, ?it/s]\u001b[A\n",
      "URLs:   4%|▍         | 1/25 [00:00<00:17,  1.41it/s]\u001b[A\n",
      "URLs:   8%|▊         | 2/25 [00:01<00:14,  1.63it/s]\u001b[A\n",
      "URLs:  12%|█▏        | 3/25 [00:02<00:15,  1.43it/s]\u001b[A\n",
      "URLs:  16%|█▌        | 4/25 [00:02<00:14,  1.47it/s]\u001b[A\n",
      "URLs:  20%|██        | 5/25 [00:03<00:14,  1.41it/s]\u001b[A\n",
      "URLs:  24%|██▍       | 6/25 [00:04<00:14,  1.30it/s]\u001b[A\n",
      "URLs:  28%|██▊       | 7/25 [00:05<00:14,  1.22it/s]\u001b[A\n",
      "URLs:  32%|███▏      | 8/25 [00:06<00:15,  1.13it/s]\u001b[A\n",
      "URLs:  36%|███▌      | 9/25 [00:07<00:15,  1.02it/s]\u001b[A\n",
      "URLs:  40%|████      | 10/25 [00:08<00:16,  1.07s/it]\u001b[A\n",
      "URLs:  44%|████▍     | 11/25 [00:09<00:14,  1.07s/it]\u001b[A\n",
      "URLs:  48%|████▊     | 12/25 [00:10<00:14,  1.09s/it]\u001b[A\n",
      "URLs:  52%|█████▏    | 13/25 [00:12<00:16,  1.35s/it]\u001b[A\n",
      "URLs:  56%|█████▌    | 14/25 [00:14<00:15,  1.40s/it]\u001b[A\n",
      "URLs:  60%|██████    | 15/25 [00:15<00:12,  1.25s/it]\u001b[A\n",
      "URLs:  64%|██████▍   | 16/25 [00:16<00:10,  1.20s/it]\u001b[A\n",
      "URLs:  68%|██████▊   | 17/25 [00:17<00:08,  1.08s/it]\u001b[A\n",
      "URLs:  72%|███████▏  | 18/25 [00:17<00:06,  1.08it/s]\u001b[A\n",
      "URLs:  76%|███████▌  | 19/25 [00:18<00:06,  1.00s/it]\u001b[A\n",
      "URLs:  80%|████████  | 20/25 [00:19<00:04,  1.09it/s]\u001b[A\n",
      "URLs:  84%|████████▍ | 21/25 [00:21<00:04,  1.22s/it]\u001b[A\n",
      "URLs:  88%|████████▊ | 22/25 [00:22<00:03,  1.12s/it]\u001b[A\n",
      "URLs:  92%|█████████▏| 23/25 [00:23<00:02,  1.00s/it]\u001b[A\n",
      "URLs:  96%|█████████▌| 24/25 [00:23<00:00,  1.09it/s]\u001b[A\n",
      "URLs: 100%|██████████| 25/25 [00:25<00:00,  1.03s/it]\u001b[A\n",
      "Websites: 100%|██████████| 3/3 [00:55<00:00, 18.64s/it]\n"
     ]
    }
   ],
   "source": [
    "list_of_websites = [\n",
    "    \"https://nation.africa/kenya\",\n",
    "    \"https://www.standardmedia.co.ke/\",\n",
    "    \"https://www.businessdailyafrica.com/\",\n",
    "    #\"https://www.pd.co.ke/\",\n",
    "    #\"https://www.citizen.digital/\", Working but slow asl\n",
    "    #\"https://www.nationmedia.com/brands/daily-nation/\",\n",
    "    #\"https://www.the-star.co.ke/\"\n",
    "]\n",
    "\n",
    "# Initialize an empty DataFrame or load an existing one\n",
    "try:\n",
    "    df = pd.read_csv('/workspaces/Project-Uchumi/data/raw/articles.csv')\n",
    "except FileNotFoundError:\n",
    "    df = pd.DataFrame(columns=['url', 'article', 'date'])\n",
    "\n",
    "df = create_dataset(list_of_websites, df)"
   ]
  },
  {
   "cell_type": "markdown",
   "metadata": {},
   "source": [
    "## Relevance Filtering"
   ]
  },
  {
   "cell_type": "code",
   "execution_count": 4,
   "metadata": {},
   "outputs": [],
   "source": [
    "# Public debt relevant terms\n",
    "# relevant_keywords = ['public debt', 'public budget', 'public finance management', 'budget trends', 'budget theft']\n",
    "relevant_keywords = ['debt', 'budget', 'finance', 'trends', 'theft','government']\n",
    "\n",
    "# Filter relevant blogs\n",
    "df_filtered = df[df['article'].str.contains('|'.join(relevant_keywords), case=False)]"
   ]
  },
  {
   "cell_type": "markdown",
   "metadata": {},
   "source": [
    "## Exporting Dataset to CSV\n"
   ]
  },
  {
   "cell_type": "code",
   "execution_count": 5,
   "metadata": {},
   "outputs": [],
   "source": [
    "df_filtered.to_csv(\"/workspaces/Project-Uchumi/data/raw/articles.csv\", index=False, mode='a', header=not os.path.exists(\"/workspaces/Project-Uchumi/data/raw/articles.csv\"))"
   ]
  }
 ],
 "metadata": {
  "kernelspec": {
   "display_name": "Python 3 (ipykernel)",
   "language": "python",
   "name": "python3"
  },
  "language_info": {
   "codemirror_mode": {
    "name": "ipython",
    "version": 3
   },
   "file_extension": ".py",
   "mimetype": "text/x-python",
   "name": "python",
   "nbconvert_exporter": "python",
   "pygments_lexer": "ipython3",
   "version": "3.10.13"
  }
 },
 "nbformat": 4,
 "nbformat_minor": 4
}
