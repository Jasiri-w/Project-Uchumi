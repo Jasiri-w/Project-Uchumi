{
 "cells": [
  {
   "cell_type": "markdown",
   "metadata": {},
   "source": [
    "# Imports"
   ]
  },
  {
   "cell_type": "code",
   "execution_count": 2,
   "metadata": {},
   "outputs": [],
   "source": [
    "import pandas as pd\n",
    "import numpy as np\n",
    "import csv\n",
    "import time\n",
    "from tqdm import tqdm\n",
    "\n",
    "from trafilatura.sitemaps import sitemap_search\n",
    "from trafilatura import fetch_url, extract, bare_extraction\n",
    "\n",
    "import os\n",
    "from htmldate import find_date"
   ]
  },
  {
   "cell_type": "markdown",
   "metadata": {},
   "source": [
    "# Data Collection"
   ]
  },
  {
   "cell_type": "markdown",
   "metadata": {},
   "source": [
    "## Scraping Functions"
   ]
  },
  {
   "cell_type": "code",
   "execution_count": 18,
   "metadata": {},
   "outputs": [],
   "source": [
    "def get_urls_from_sitemap(resource_url: str) -> list:\n",
    "    \"\"\"\n",
    "    Funzione che crea un DataFrame Pandas di URL e articoli.\n",
    "    Function to create a Pandas DataFrame from the article URL\n",
    "    \"\"\"\n",
    "    urls = sitemap_search(resource_url)\n",
    "    print(f'Urls: {urls}')\n",
    "    return urls\n",
    "\n",
    "\n",
    "def extract_article(url: str) -> dict:\n",
    "    \"\"\"\n",
    "    Estrae un articolo da una URL con Trafilatura\n",
    "    Extract an article from a URL from Trafiltura\n",
    "    \"\"\"\n",
    "    downloaded = fetch_url(url)\n",
    "    article = extract(downloaded, favor_precision=True)\n",
    "\n",
    "    return article\n",
    "\n",
    "def extract_date(url: str) -> dict:\n",
    "\n",
    "    downloaded = fetch_url(url)\n",
    "    date = bare_extraction(downloaded,favor_precision=True)['date']\n",
    "\n",
    "    return date\n",
    "\n",
    "def create_dataset(list_of_websites: list, df_original=None) -> pd.DataFrame:\n",
    "    \"\"\"\n",
    "    Funzione che crea un DataFrame Pandas di URL e articoli.\n",
    "    Function to create a Pandas Dataframe from an article URL\n",
    "    \"\"\"\n",
    "    \n",
    "    data = []\n",
    "    for website in tqdm(list_of_websites, desc=\"Websites\"):\n",
    "        urls = get_urls_from_sitemap(website)\n",
    "        if df_original is not None:\n",
    "            urls = list(set(urls) - set(df_original['url']))\n",
    "            \n",
    "        for url in tqdm(urls, desc=\"URLs\"):\n",
    "            d = {\n",
    "                'url': url,\n",
    "                \"article\": extract_article(url),\n",
    "                \"date\": pd.to_datetime(find_date(url))\n",
    "            }\n",
    "            data.append(d)\n",
    "            time.sleep(0.25)\n",
    "\n",
    "    df = pd.DataFrame(data)\n",
    "    if df_original is not None:\n",
    "        # Append only rows from df that are not in df_original\n",
    "        df_original = pd.concat([df_original, df]).drop_duplicates(subset=['url'], keep='first')\n",
    "        df = df_original\n",
    "\n",
    "    df = df.drop_duplicates()\n",
    "    df = df.dropna(subset=['article'])\n",
    "\n",
    "    return df\n"
   ]
  },
  {
   "cell_type": "markdown",
   "metadata": {},
   "source": [
    "## Dataset 1"
   ]
  },
  {
   "cell_type": "code",
   "execution_count": 19,
   "metadata": {},
   "outputs": [
    {
     "name": "stderr",
     "output_type": "stream",
     "text": [
      "Websites:   0%|          | 0/2 [00:00<?, ?it/s]"
     ]
    },
    {
     "name": "stdout",
     "output_type": "stream",
     "text": [
      "Urls: ['https://nation.africa/kenya/counties/kakamega/kakamega-tale-dead-body-deadly-clash-dead-brother-4677512', 'https://nation.africa/kenya/counties/meru/why-meru-county-has-yet-to-pass-a-budget-4677466', 'https://nation.africa/kenya/counties/nakuru/kevin-madanga-kagoni-the-pain-of-a-mother-4677382', 'https://nation.africa/kenya/counties/turkana/a-balancing-act-kenya-walks-tight-rope-to-please-refugees-and-locals-4677318', 'https://nation.africa/kenya/life-and-style/dn2/a-10-step-guide-on-how-to-bamboozle-kenyan-voters-4676676', 'https://nation.africa/kenya/life-and-style/dn2/dear-kitoto-how-do-i-forgive-my-abusive-stepdad--4676670', 'https://nation.africa/kenya/life-and-style/dn2/gen-zs-intolerance-of-status-quo-is-admirable-4676672', 'https://nation.africa/kenya/life-and-style/dn2/octane-ratings-from-the-beach-to-the-mountaintop-4676710', 'https://nation.africa/kenya/life-and-style/dn2/parents-saddled-by-high-costs-cut-back-on-soft-life--4676674', 'https://nation.africa/kenya/news/africa/-why-somalia-won-t-offer-dialogue-to-militants--4677436', 'https://nation.africa/kenya/news/africa/the-imf-is-failing-countries-like-kenya-4677556', 'https://nation.africa/kenya/news/africa/women-children-trapped-at-church-in-sudan-s-capital-endure-hunger-bombardment-4677582', 'https://nation.africa/kenya/news/business-owners-step-up-security-against-looters-demos-4677346', 'https://nation.africa/kenya/news/education/schools-remain-shut-uneasy-parents-keep-children-home-4677358', 'https://nation.africa/kenya/news/gender/make-paid-menstrual-leave-a-reality-in-njambi-koikai-s-honour-4676958', 'https://nation.africa/kenya/news/gender/my-first-trip-to-uganda-and-the-drama-at-an-african-airport-4676620', 'https://nation.africa/kenya/news/gender/unexpected-heroes-meet-the-boda-boda-riders-leading-war-on-digital-child-sex-abuse-4676846', 'https://nation.africa/kenya/news/kenya-s-meandering-history-of-dialogue-4677368', 'https://nation.africa/kenya/news/politics/interior-cs-warns-of-more-chaos-as-protests-turn-violent-4677520', 'https://nation.africa/kenya/news/politics/wetangula-ichung-wah-face-wrath-mps-over-partisanship--4677312', 'https://nation.africa/kenya/news/protesters-cripple-operations-in-major-cities-scores-hurt-gangs-terrorise-public-4677322', 'https://nation.africa/kenya/news/protests-6-politicians-businessman-two-ngos-state-s-radar-4677172', 'https://nation.africa/kenya/news/rogue-police-officers-a-gallery-of-killer-cops-4676182', 'https://nation.africa/kenya/sports/athletics/-ezekiel-kemboi-gives-steeplechase-team-tips-4677432', 'https://nation.africa/kenya/sports/gaudencia-makokha-kenya-foremost-beach-volleyball-player--4677320']\n"
     ]
    },
    {
     "name": "stderr",
     "output_type": "stream",
     "text": [
      "\n",
      "URLs:   0%|          | 0/25 [00:00<?, ?it/s]\u001b[A\n",
      "URLs:   4%|▍         | 1/25 [00:31<12:25, 31.08s/it]\u001b[A\n",
      "URLs:   8%|▊         | 2/25 [00:31<05:03, 13.17s/it]\u001b[A\n",
      "URLs:  12%|█▏        | 3/25 [00:32<02:42,  7.38s/it]\u001b[A\n",
      "URLs:  16%|█▌        | 4/25 [00:32<01:39,  4.72s/it]\u001b[A\n",
      "URLs:  20%|██        | 5/25 [00:33<01:05,  3.27s/it]\u001b[A\n",
      "URLs:  24%|██▍       | 6/25 [00:34<00:45,  2.39s/it]\u001b[A\n",
      "URLs:  28%|██▊       | 7/25 [00:34<00:31,  1.77s/it]\u001b[A\n",
      "URLs:  32%|███▏      | 8/25 [00:37<00:37,  2.22s/it]\u001b[A\n",
      "URLs:  36%|███▌      | 9/25 [00:38<00:28,  1.75s/it]\u001b[A\n",
      "URLs:  40%|████      | 10/25 [00:39<00:23,  1.57s/it]\u001b[A\n",
      "URLs:  44%|████▍     | 11/25 [00:40<00:19,  1.38s/it]\u001b[A\n",
      "URLs:  48%|████▊     | 12/25 [00:41<00:15,  1.16s/it]\u001b[A\n",
      "URLs:  52%|█████▏    | 13/25 [00:42<00:12,  1.01s/it]\u001b[A\n",
      "URLs:  56%|█████▌    | 14/25 [00:42<00:09,  1.11it/s]\u001b[A\n",
      "URLs:  60%|██████    | 15/25 [00:43<00:08,  1.15it/s]\u001b[A\n",
      "URLs:  64%|██████▍   | 16/25 [00:44<00:07,  1.24it/s]\u001b[A\n",
      "URLs:  68%|██████▊   | 17/25 [00:45<00:08,  1.10s/it]\u001b[A\n",
      "URLs:  72%|███████▏  | 18/25 [00:46<00:07,  1.03s/it]\u001b[A\n",
      "URLs:  76%|███████▌  | 19/25 [00:48<00:06,  1.08s/it]\u001b[A\n",
      "URLs:  80%|████████  | 20/25 [00:48<00:04,  1.05it/s]\u001b[A\n",
      "URLs:  84%|████████▍ | 21/25 [00:49<00:03,  1.09it/s]\u001b[A\n",
      "URLs:  88%|████████▊ | 22/25 [00:50<00:02,  1.13it/s]\u001b[A\n",
      "URLs:  92%|█████████▏| 23/25 [00:51<00:02,  1.07s/it]\u001b[A\n",
      "URLs:  96%|█████████▌| 24/25 [00:52<00:01,  1.05s/it]\u001b[A\n",
      "URLs: 100%|██████████| 25/25 [00:53<00:00,  2.14s/it]\u001b[A\n",
      "Websites:  50%|█████     | 1/2 [01:36<01:36, 96.39s/it]"
     ]
    },
    {
     "name": "stdout",
     "output_type": "stream",
     "text": [
      "Urls: ['https://www.businessdailyafrica.com/bd/sponsored/oil-and-gold-markets-on-edge-ahead-of-key-economic-releases-4677474', 'https://www.businessdailyafrica.com/bd/opinion-analysis/columnists/how-the-paints-industry-can-ride-the-sustainability-wave-4676816', 'https://www.businessdailyafrica.com/bd/corporate/companies/equity-pilots-insurance-in-drc-ahead-of-regional-rollout-4677116', 'https://www.businessdailyafrica.com/bd/economy/schools-remain-closed-on-fear-of-violent-protests-4677284', 'https://www.businessdailyafrica.com/bd/opinion-analysis/columnists/stringent-policies-drive-mushrooming-black-market-4676800', 'https://www.businessdailyafrica.com/bd/economy/inside-sh1bn-wage-bill-dilemma-as-new-pay-falls-due-4677166', 'https://www.businessdailyafrica.com/bd/markets/real-estate/ncba-stanbic-tap-sh1-8bn-home-loans-4677102', 'https://www.businessdailyafrica.com/bd/economy/explainer-the-appropriation-bill-and-why-it-matters-4677196', 'https://www.businessdailyafrica.com/bd/lifestyle/workplace/lay-off-staff-here-s-why-it-might-be-bad-for-your-business-4677070', 'https://www.businessdailyafrica.com/bd/corporate/companies/supreme-court-declines-to-re-open-nbk-rancher-land-case-4677084', 'https://www.businessdailyafrica.com/bd/opinion-analysis/columnists/communication-what-fueled-gen-z-riots-4676772', 'https://www.businessdailyafrica.com/bd/economy/us-warns-kenya-s-loan-costs-will-hit-education-health-4677130', 'https://www.businessdailyafrica.com/bd/markets/capital-markets/nse-beats-african-peers-in-half-year-as-shilling-strengthens-4676908', 'https://www.businessdailyafrica.com/bd/economy/tourism-earnings-hit-record-sh352bn-on-higher-arrivals-4676964', 'https://www.businessdailyafrica.com/bd/corporate/companies/no-thank-you-why-equity-ceo-declined-bonus-millions-4677256', 'https://www.businessdailyafrica.com/bd/markets/capital-markets/nse-sheds-sh63bn-in-two-weeks-as-investors-ruffled-by-protests-4677236', 'https://www.businessdailyafrica.com/bd/lifestyle/art/visual-arts/waruguru-navigates-place-and-spaces-at-the-venice-biennale-4677060', 'https://www.businessdailyafrica.com/bd/corporate/companies/kenya-airways-debt-to-kaa-grows-to-sh6-3bn-4677016', 'https://www.businessdailyafrica.com/bd/lifestyle/personal-finance/financial-wellness-coach-s-lessons-for-secure-retirement-4677034', 'https://www.businessdailyafrica.com/bd/corporate/companies/mwananchi-credit-blocked-from-selling-seized-lorries-4676894', 'https://www.businessdailyafrica.com/bd/markets/capital-markets/packaging-firm-skol-applies-to-list-on-the-nairobi-bourse-4676804', 'https://www.businessdailyafrica.com/bd/corporate/companies/ncba-completes-buyout-of-aig-kenya-insurance-4676594', 'https://www.businessdailyafrica.com/bd/markets/commodities/mystery-of-russian-fertiliser-cargo-that-didn-t-reach-kenya-4676192', 'https://www.businessdailyafrica.com/bd/economy/murkomen-on-the-spot-for-delay-lowering-expressway-toll-fees-4676186', 'https://www.businessdailyafrica.com/bd/economy/ruto-austerity-doublespeak-more-debts-or-spending-cuts-4676168']\n"
     ]
    },
    {
     "name": "stderr",
     "output_type": "stream",
     "text": [
      "\n",
      "URLs:   0%|          | 0/25 [00:00<?, ?it/s]\u001b[A\n",
      "URLs:   4%|▍         | 1/25 [00:31<12:26, 31.09s/it]\u001b[A\n",
      "URLs:   8%|▊         | 2/25 [00:32<05:06, 13.35s/it]\u001b[A\n",
      "URLs:  12%|█▏        | 3/25 [00:32<02:44,  7.48s/it]\u001b[A\n",
      "URLs:  16%|█▌        | 4/25 [00:33<01:42,  4.90s/it]\u001b[A\n",
      "URLs:  20%|██        | 5/25 [00:34<01:08,  3.42s/it]\u001b[A\n",
      "URLs:  24%|██▍       | 6/25 [00:35<00:50,  2.66s/it]\u001b[A\n",
      "URLs:  28%|██▊       | 7/25 [00:36<00:38,  2.12s/it]\u001b[A\n",
      "URLs:  32%|███▏      | 8/25 [00:37<00:30,  1.77s/it]\u001b[A\n",
      "URLs:  36%|███▌      | 9/25 [00:38<00:24,  1.53s/it]\u001b[A\n",
      "URLs:  40%|████      | 10/25 [00:39<00:20,  1.38s/it]\u001b[A\n",
      "URLs:  44%|████▍     | 11/25 [00:40<00:16,  1.19s/it]\u001b[A\n",
      "URLs:  48%|████▊     | 12/25 [00:40<00:13,  1.04s/it]\u001b[A\n",
      "URLs:  52%|█████▏    | 13/25 [00:41<00:11,  1.02it/s]\u001b[A\n",
      "URLs:  56%|█████▌    | 14/25 [00:42<00:10,  1.01it/s]\u001b[A\n",
      "URLs:  60%|██████    | 15/25 [00:44<00:12,  1.27s/it]\u001b[A\n",
      "URLs:  64%|██████▍   | 16/25 [00:45<00:10,  1.13s/it]\u001b[A\n",
      "URLs:  68%|██████▊   | 17/25 [00:46<00:08,  1.07s/it]\u001b[A\n",
      "URLs:  72%|███████▏  | 18/25 [00:47<00:06,  1.02it/s]\u001b[A\n",
      "URLs:  76%|███████▌  | 19/25 [00:48<00:05,  1.07it/s]\u001b[A\n",
      "URLs:  80%|████████  | 20/25 [00:48<00:04,  1.15it/s]\u001b[A\n",
      "URLs:  84%|████████▍ | 21/25 [00:49<00:03,  1.18it/s]\u001b[A\n",
      "URLs:  88%|████████▊ | 22/25 [00:50<00:02,  1.15it/s]\u001b[A\n",
      "URLs:  92%|█████████▏| 23/25 [00:51<00:01,  1.21it/s]\u001b[A\n",
      "URLs:  96%|█████████▌| 24/25 [00:52<00:00,  1.15it/s]\u001b[A\n",
      "URLs: 100%|██████████| 25/25 [00:53<00:00,  2.14s/it]\u001b[A\n",
      "Websites: 100%|██████████| 2/2 [03:13<00:00, 96.56s/it]\n",
      "/tmp/ipykernel_660/2752107671.py:51: FutureWarning: The behavior of DataFrame concatenation with empty or all-NA entries is deprecated. In a future version, this will no longer exclude empty or all-NA columns when determining the result dtypes. To retain the old behavior, exclude the relevant entries before the concat operation.\n",
      "  df_original = pd.concat([df_original, df]).drop_duplicates(subset=['url'], keep='first')\n"
     ]
    }
   ],
   "source": [
    "list_of_websites = [\n",
    "    \"https://nation.africa/kenya\",\n",
    "    #\"https://www.standardmedia.co.ke/\",\n",
    "    \"https://www.businessdailyafrica.com/\",\n",
    "    #\"https://www.pd.co.ke/\",\n",
    "    #\"https://www.citizen.digital/\", Working but slow asl\n",
    "    #\"https://www.nationmedia.com/brands/daily-nation/\",\n",
    "    #\"https://www.the-star.co.ke/\"\n",
    "]\n",
    "\n",
    "# Initialize an empty DataFrame or load an existing one\n",
    "try:\n",
    "    df = pd.read_csv('/workspaces/Project-Uchumi/data/raw/articles.csv')\n",
    "except FileNotFoundError:\n",
    "    df = pd.DataFrame(columns=['url', 'article', 'date'])\n",
    "\n",
    "df = create_dataset(list_of_websites, df)"
   ]
  },
  {
   "cell_type": "markdown",
   "metadata": {},
   "source": [
    "## Relevance Filtering"
   ]
  },
  {
   "cell_type": "code",
   "execution_count": 20,
   "metadata": {},
   "outputs": [],
   "source": [
    "# Public debt relevant terms\n",
    "# relevant_keywords = ['public debt', 'public budget', 'public finance management', 'budget trends', 'budget theft']\n",
    "# relevant_keywords = ['debt', 'budget', 'finance', 'trends', 'theft','government']\n",
    "\n",
    "# Filter relevant blogs\n",
    "# df_filtered = df[df['article'].str.contains('|'.join(relevant_keywords), case=False)]"
   ]
  },
  {
   "cell_type": "markdown",
   "metadata": {},
   "source": [
    "## Exporting Dataset to CSV\n"
   ]
  },
  {
   "cell_type": "code",
   "execution_count": 21,
   "metadata": {},
   "outputs": [],
   "source": [
    "df.to_csv(\"/workspaces/Project-Uchumi/data/raw/articles.csv\", index=False, mode='a', header=not os.path.exists(\"/workspaces/Project-Uchumi/data/raw/articles.csv\"))"
   ]
  }
 ],
 "metadata": {
  "kernelspec": {
   "display_name": "Python 3 (ipykernel)",
   "language": "python",
   "name": "python3"
  },
  "language_info": {
   "codemirror_mode": {
    "name": "ipython",
    "version": 3
   },
   "file_extension": ".py",
   "mimetype": "text/x-python",
   "name": "python",
   "nbconvert_exporter": "python",
   "pygments_lexer": "ipython3",
   "version": "3.10.13"
  }
 },
 "nbformat": 4,
 "nbformat_minor": 4
}
